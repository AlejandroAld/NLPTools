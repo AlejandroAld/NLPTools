{
  "nbformat": 4,
  "nbformat_minor": 0,
  "metadata": {
    "colab": {
      "name": "Desafio 03.ipynb",
      "provenance": [],
      "collapsed_sections": [],
      "toc_visible": true,
      "include_colab_link": true
    },
    "kernelspec": {
      "name": "python3",
      "display_name": "Python 3"
    },
    "widgets": {
      "application/vnd.jupyter.widget-state+json": {
        "98036377f691493492f766b7c2a75c92": {
          "model_module": "@jupyter-widgets/controls",
          "model_name": "HBoxModel",
          "state": {
            "_view_name": "HBoxView",
            "_dom_classes": [],
            "_model_name": "HBoxModel",
            "_view_module": "@jupyter-widgets/controls",
            "_model_module_version": "1.5.0",
            "_view_count": null,
            "_view_module_version": "1.5.0",
            "box_style": "",
            "layout": "IPY_MODEL_46527ea272fa4256beb2cf21766d02d8",
            "_model_module": "@jupyter-widgets/controls",
            "children": [
              "IPY_MODEL_39aa750a4e1640f2a9bd01dbb403c5a6",
              "IPY_MODEL_e0b73ea59aa1467d8805be84f7110d92"
            ]
          }
        },
        "46527ea272fa4256beb2cf21766d02d8": {
          "model_module": "@jupyter-widgets/base",
          "model_name": "LayoutModel",
          "state": {
            "_view_name": "LayoutView",
            "grid_template_rows": null,
            "right": null,
            "justify_content": null,
            "_view_module": "@jupyter-widgets/base",
            "overflow": null,
            "_model_module_version": "1.2.0",
            "_view_count": null,
            "flex_flow": null,
            "width": null,
            "min_width": null,
            "border": null,
            "align_items": null,
            "bottom": null,
            "_model_module": "@jupyter-widgets/base",
            "top": null,
            "grid_column": null,
            "overflow_y": null,
            "overflow_x": null,
            "grid_auto_flow": null,
            "grid_area": null,
            "grid_template_columns": null,
            "flex": null,
            "_model_name": "LayoutModel",
            "justify_items": null,
            "grid_row": null,
            "max_height": null,
            "align_content": null,
            "visibility": null,
            "align_self": null,
            "height": null,
            "min_height": null,
            "padding": null,
            "grid_auto_rows": null,
            "grid_gap": null,
            "max_width": null,
            "order": null,
            "_view_module_version": "1.2.0",
            "grid_template_areas": null,
            "object_position": null,
            "object_fit": null,
            "grid_auto_columns": null,
            "margin": null,
            "display": null,
            "left": null
          }
        },
        "39aa750a4e1640f2a9bd01dbb403c5a6": {
          "model_module": "@jupyter-widgets/controls",
          "model_name": "FloatProgressModel",
          "state": {
            "_view_name": "ProgressView",
            "style": "IPY_MODEL_e31aaee44120474f9cc62baae74e9c42",
            "_dom_classes": [],
            "description": "Downloading: 100%",
            "_model_name": "FloatProgressModel",
            "bar_style": "success",
            "max": 442,
            "_view_module": "@jupyter-widgets/controls",
            "_model_module_version": "1.5.0",
            "value": 442,
            "_view_count": null,
            "_view_module_version": "1.5.0",
            "orientation": "horizontal",
            "min": 0,
            "description_tooltip": null,
            "_model_module": "@jupyter-widgets/controls",
            "layout": "IPY_MODEL_b5fe67a4177a40c98b7eb6df7bc74b3b"
          }
        },
        "e0b73ea59aa1467d8805be84f7110d92": {
          "model_module": "@jupyter-widgets/controls",
          "model_name": "HTMLModel",
          "state": {
            "_view_name": "HTMLView",
            "style": "IPY_MODEL_6cefbde86cd14aa5a9297ffd00d80668",
            "_dom_classes": [],
            "description": "",
            "_model_name": "HTMLModel",
            "placeholder": "​",
            "_view_module": "@jupyter-widgets/controls",
            "_model_module_version": "1.5.0",
            "value": " 442/442 [00:09&lt;00:00, 48.8B/s]",
            "_view_count": null,
            "_view_module_version": "1.5.0",
            "description_tooltip": null,
            "_model_module": "@jupyter-widgets/controls",
            "layout": "IPY_MODEL_5d22a966b4b942fa8263cf150f36e5a9"
          }
        },
        "e31aaee44120474f9cc62baae74e9c42": {
          "model_module": "@jupyter-widgets/controls",
          "model_name": "ProgressStyleModel",
          "state": {
            "_view_name": "StyleView",
            "_model_name": "ProgressStyleModel",
            "description_width": "initial",
            "_view_module": "@jupyter-widgets/base",
            "_model_module_version": "1.5.0",
            "_view_count": null,
            "_view_module_version": "1.2.0",
            "bar_color": null,
            "_model_module": "@jupyter-widgets/controls"
          }
        },
        "b5fe67a4177a40c98b7eb6df7bc74b3b": {
          "model_module": "@jupyter-widgets/base",
          "model_name": "LayoutModel",
          "state": {
            "_view_name": "LayoutView",
            "grid_template_rows": null,
            "right": null,
            "justify_content": null,
            "_view_module": "@jupyter-widgets/base",
            "overflow": null,
            "_model_module_version": "1.2.0",
            "_view_count": null,
            "flex_flow": null,
            "width": null,
            "min_width": null,
            "border": null,
            "align_items": null,
            "bottom": null,
            "_model_module": "@jupyter-widgets/base",
            "top": null,
            "grid_column": null,
            "overflow_y": null,
            "overflow_x": null,
            "grid_auto_flow": null,
            "grid_area": null,
            "grid_template_columns": null,
            "flex": null,
            "_model_name": "LayoutModel",
            "justify_items": null,
            "grid_row": null,
            "max_height": null,
            "align_content": null,
            "visibility": null,
            "align_self": null,
            "height": null,
            "min_height": null,
            "padding": null,
            "grid_auto_rows": null,
            "grid_gap": null,
            "max_width": null,
            "order": null,
            "_view_module_version": "1.2.0",
            "grid_template_areas": null,
            "object_position": null,
            "object_fit": null,
            "grid_auto_columns": null,
            "margin": null,
            "display": null,
            "left": null
          }
        },
        "6cefbde86cd14aa5a9297ffd00d80668": {
          "model_module": "@jupyter-widgets/controls",
          "model_name": "DescriptionStyleModel",
          "state": {
            "_view_name": "StyleView",
            "_model_name": "DescriptionStyleModel",
            "description_width": "",
            "_view_module": "@jupyter-widgets/base",
            "_model_module_version": "1.5.0",
            "_view_count": null,
            "_view_module_version": "1.2.0",
            "_model_module": "@jupyter-widgets/controls"
          }
        },
        "5d22a966b4b942fa8263cf150f36e5a9": {
          "model_module": "@jupyter-widgets/base",
          "model_name": "LayoutModel",
          "state": {
            "_view_name": "LayoutView",
            "grid_template_rows": null,
            "right": null,
            "justify_content": null,
            "_view_module": "@jupyter-widgets/base",
            "overflow": null,
            "_model_module_version": "1.2.0",
            "_view_count": null,
            "flex_flow": null,
            "width": null,
            "min_width": null,
            "border": null,
            "align_items": null,
            "bottom": null,
            "_model_module": "@jupyter-widgets/base",
            "top": null,
            "grid_column": null,
            "overflow_y": null,
            "overflow_x": null,
            "grid_auto_flow": null,
            "grid_area": null,
            "grid_template_columns": null,
            "flex": null,
            "_model_name": "LayoutModel",
            "justify_items": null,
            "grid_row": null,
            "max_height": null,
            "align_content": null,
            "visibility": null,
            "align_self": null,
            "height": null,
            "min_height": null,
            "padding": null,
            "grid_auto_rows": null,
            "grid_gap": null,
            "max_width": null,
            "order": null,
            "_view_module_version": "1.2.0",
            "grid_template_areas": null,
            "object_position": null,
            "object_fit": null,
            "grid_auto_columns": null,
            "margin": null,
            "display": null,
            "left": null
          }
        },
        "dbd08f48834b4c0c857bcf3d61a198d0": {
          "model_module": "@jupyter-widgets/controls",
          "model_name": "HBoxModel",
          "state": {
            "_view_name": "HBoxView",
            "_dom_classes": [],
            "_model_name": "HBoxModel",
            "_view_module": "@jupyter-widgets/controls",
            "_model_module_version": "1.5.0",
            "_view_count": null,
            "_view_module_version": "1.5.0",
            "box_style": "",
            "layout": "IPY_MODEL_7dcbc7be4ff246c9b7e334158e121960",
            "_model_module": "@jupyter-widgets/controls",
            "children": [
              "IPY_MODEL_8c0e8cc3d50646df8a6737a6b23a65a3",
              "IPY_MODEL_ad5650c17410445db3ec4d4c5844a3b1"
            ]
          }
        },
        "7dcbc7be4ff246c9b7e334158e121960": {
          "model_module": "@jupyter-widgets/base",
          "model_name": "LayoutModel",
          "state": {
            "_view_name": "LayoutView",
            "grid_template_rows": null,
            "right": null,
            "justify_content": null,
            "_view_module": "@jupyter-widgets/base",
            "overflow": null,
            "_model_module_version": "1.2.0",
            "_view_count": null,
            "flex_flow": null,
            "width": null,
            "min_width": null,
            "border": null,
            "align_items": null,
            "bottom": null,
            "_model_module": "@jupyter-widgets/base",
            "top": null,
            "grid_column": null,
            "overflow_y": null,
            "overflow_x": null,
            "grid_auto_flow": null,
            "grid_area": null,
            "grid_template_columns": null,
            "flex": null,
            "_model_name": "LayoutModel",
            "justify_items": null,
            "grid_row": null,
            "max_height": null,
            "align_content": null,
            "visibility": null,
            "align_self": null,
            "height": null,
            "min_height": null,
            "padding": null,
            "grid_auto_rows": null,
            "grid_gap": null,
            "max_width": null,
            "order": null,
            "_view_module_version": "1.2.0",
            "grid_template_areas": null,
            "object_position": null,
            "object_fit": null,
            "grid_auto_columns": null,
            "margin": null,
            "display": null,
            "left": null
          }
        },
        "8c0e8cc3d50646df8a6737a6b23a65a3": {
          "model_module": "@jupyter-widgets/controls",
          "model_name": "FloatProgressModel",
          "state": {
            "_view_name": "ProgressView",
            "style": "IPY_MODEL_b80cc598b28d46619218e2208e8efa6d",
            "_dom_classes": [],
            "description": "Downloading: 100%",
            "_model_name": "FloatProgressModel",
            "bar_style": "success",
            "max": 363423424,
            "_view_module": "@jupyter-widgets/controls",
            "_model_module_version": "1.5.0",
            "value": 363423424,
            "_view_count": null,
            "_view_module_version": "1.5.0",
            "orientation": "horizontal",
            "min": 0,
            "description_tooltip": null,
            "_model_module": "@jupyter-widgets/controls",
            "layout": "IPY_MODEL_dde0e6b0bf3246fdb4b2f210f941743e"
          }
        },
        "ad5650c17410445db3ec4d4c5844a3b1": {
          "model_module": "@jupyter-widgets/controls",
          "model_name": "HTMLModel",
          "state": {
            "_view_name": "HTMLView",
            "style": "IPY_MODEL_0481ea93947147be90ef0f7c126ca949",
            "_dom_classes": [],
            "description": "",
            "_model_name": "HTMLModel",
            "placeholder": "​",
            "_view_module": "@jupyter-widgets/controls",
            "_model_module_version": "1.5.0",
            "value": " 363M/363M [00:08&lt;00:00, 41.7MB/s]",
            "_view_count": null,
            "_view_module_version": "1.5.0",
            "description_tooltip": null,
            "_model_module": "@jupyter-widgets/controls",
            "layout": "IPY_MODEL_3422acc1228b45b4a174c97ff18b9c32"
          }
        },
        "b80cc598b28d46619218e2208e8efa6d": {
          "model_module": "@jupyter-widgets/controls",
          "model_name": "ProgressStyleModel",
          "state": {
            "_view_name": "StyleView",
            "_model_name": "ProgressStyleModel",
            "description_width": "initial",
            "_view_module": "@jupyter-widgets/base",
            "_model_module_version": "1.5.0",
            "_view_count": null,
            "_view_module_version": "1.2.0",
            "bar_color": null,
            "_model_module": "@jupyter-widgets/controls"
          }
        },
        "dde0e6b0bf3246fdb4b2f210f941743e": {
          "model_module": "@jupyter-widgets/base",
          "model_name": "LayoutModel",
          "state": {
            "_view_name": "LayoutView",
            "grid_template_rows": null,
            "right": null,
            "justify_content": null,
            "_view_module": "@jupyter-widgets/base",
            "overflow": null,
            "_model_module_version": "1.2.0",
            "_view_count": null,
            "flex_flow": null,
            "width": null,
            "min_width": null,
            "border": null,
            "align_items": null,
            "bottom": null,
            "_model_module": "@jupyter-widgets/base",
            "top": null,
            "grid_column": null,
            "overflow_y": null,
            "overflow_x": null,
            "grid_auto_flow": null,
            "grid_area": null,
            "grid_template_columns": null,
            "flex": null,
            "_model_name": "LayoutModel",
            "justify_items": null,
            "grid_row": null,
            "max_height": null,
            "align_content": null,
            "visibility": null,
            "align_self": null,
            "height": null,
            "min_height": null,
            "padding": null,
            "grid_auto_rows": null,
            "grid_gap": null,
            "max_width": null,
            "order": null,
            "_view_module_version": "1.2.0",
            "grid_template_areas": null,
            "object_position": null,
            "object_fit": null,
            "grid_auto_columns": null,
            "margin": null,
            "display": null,
            "left": null
          }
        },
        "0481ea93947147be90ef0f7c126ca949": {
          "model_module": "@jupyter-widgets/controls",
          "model_name": "DescriptionStyleModel",
          "state": {
            "_view_name": "StyleView",
            "_model_name": "DescriptionStyleModel",
            "description_width": "",
            "_view_module": "@jupyter-widgets/base",
            "_model_module_version": "1.5.0",
            "_view_count": null,
            "_view_module_version": "1.2.0",
            "_model_module": "@jupyter-widgets/controls"
          }
        },
        "3422acc1228b45b4a174c97ff18b9c32": {
          "model_module": "@jupyter-widgets/base",
          "model_name": "LayoutModel",
          "state": {
            "_view_name": "LayoutView",
            "grid_template_rows": null,
            "right": null,
            "justify_content": null,
            "_view_module": "@jupyter-widgets/base",
            "overflow": null,
            "_model_module_version": "1.2.0",
            "_view_count": null,
            "flex_flow": null,
            "width": null,
            "min_width": null,
            "border": null,
            "align_items": null,
            "bottom": null,
            "_model_module": "@jupyter-widgets/base",
            "top": null,
            "grid_column": null,
            "overflow_y": null,
            "overflow_x": null,
            "grid_auto_flow": null,
            "grid_area": null,
            "grid_template_columns": null,
            "flex": null,
            "_model_name": "LayoutModel",
            "justify_items": null,
            "grid_row": null,
            "max_height": null,
            "align_content": null,
            "visibility": null,
            "align_self": null,
            "height": null,
            "min_height": null,
            "padding": null,
            "grid_auto_rows": null,
            "grid_gap": null,
            "max_width": null,
            "order": null,
            "_view_module_version": "1.2.0",
            "grid_template_areas": null,
            "object_position": null,
            "object_fit": null,
            "grid_auto_columns": null,
            "margin": null,
            "display": null,
            "left": null
          }
        }
      }
    }
  },
  "cells": [
    {
      "cell_type": "markdown",
      "metadata": {
        "id": "view-in-github",
        "colab_type": "text"
      },
      "source": [
        "<a href=\"https://colab.research.google.com/github/Sirsirious/NLPTools/blob/master/SentimentAnalysisComparisons.ipynb\" target=\"_parent\"><img src=\"https://colab.research.google.com/assets/colab-badge.svg\" alt=\"Open In Colab\"/></a>"
      ]
    },
    {
      "cell_type": "markdown",
      "metadata": {
        "id": "ErYep1vyH4pJ"
      },
      "source": [
        "Utilizando os arquivos: \"imdb_labelled.txt\", \"amazon_cells_labelled.txt\", \"yelp_labelled.txt\", \"Youtube01-Psy.csv\", \"Youtube04-Eminem\" e \"Youtube05-Shakira\" criar uma solução baseada em inteligencia artificial para realizar análise de sentimentos, classificando os comentários como Positivo, Negativo e Neutro\n"
      ]
    },
    {
      "cell_type": "code",
      "metadata": {
        "id": "LhBl0XsF9JbI"
      },
      "source": [
        "import pandas as pd\n",
        "import numpy as np\n",
        "import seaborn as sns\n",
        "import matplotlib.pyplot as plt\n",
        "import tensorflow as tf\n",
        "from sklearn.model_selection import train_test_split\n",
        "from sklearn.linear_model import LogisticRegression\n",
        "import re\n",
        "from collections import defaultdict\n",
        "from sklearn.metrics import confusion_matrix\n",
        "from sklearn.metrics import ConfusionMatrixDisplay"
      ],
      "execution_count": null,
      "outputs": []
    },
    {
      "cell_type": "markdown",
      "metadata": {
        "id": "4iU65bwvH37M"
      },
      "source": [
        "Apresentar a taxa de acerto do modelo, Verdadeiro Positivo, Verdadeiro Negativo, Falso Positivo e Falso Negativo.\n"
      ]
    },
    {
      "cell_type": "markdown",
      "metadata": {
        "id": "ZaF_TCUT9Ouu"
      },
      "source": [
        "Vou apresentar três métodos para realizar análise de sentimentos:\n",
        "\n",
        "1. Análise Naïve baseada em distribuição de palavras.\n",
        "\n",
        "1. Análise de sentimento simples com Regressão Logística\n",
        "\n",
        "2. Análise de sentimento com redes Neurais Profundas (LSTM)\n",
        "\n",
        "3. Análise de sentimento com mecanismos de Atenção (Attention)"
      ]
    },
    {
      "cell_type": "markdown",
      "metadata": {
        "id": "jA2ldan397ok"
      },
      "source": [
        "# Ferramentas Gerais\n",
        "\n",
        "Antes de iniciar o treinamento de modelos, serão feitas algumas etapas de pré-processamento."
      ]
    },
    {
      "cell_type": "code",
      "metadata": {
        "id": "sOhAb94K-HPs",
        "colab": {
          "base_uri": "https://localhost:8080/",
          "height": 297
        },
        "outputId": "ab9004c2-c104-46b5-bd50-cfc78039ff75"
      },
      "source": [
        "# Para começar, vamos juntar todos os datasets em uma mesma variável:\n",
        "# Como usei o Google Colabs, os arquivos são armazenados na pasta /content/\n",
        "# Basta incluir todos os arquivos nessa pasta.\n",
        "\n",
        "# Dataset psy\n",
        "yt_psy = pd.read_csv('/content/Youtube01-Psy.csv')\n",
        "yt_psy = yt_psy.drop('COMMENT_ID', axis = 1)\n",
        "yt_psy = yt_psy.drop('AUTHOR', axis = 1)\n",
        "yt_psy = yt_psy.drop('DATE', axis = 1)\n",
        "yt_psy= yt_psy.rename(columns={\"CONTENT\": \"text\", \"CLASS\": \"label\"})\n",
        "\n",
        "# Dataset eminem\n",
        "yt_eminem = pd.read_csv('/content/Youtube04-Eminem.csv')\n",
        "yt_eminem = yt_eminem.drop('COMMENT_ID', axis = 1)\n",
        "yt_eminem = yt_eminem.drop('AUTHOR', axis = 1)\n",
        "yt_eminem = yt_eminem.drop('DATE', axis = 1)\n",
        "yt_eminem= yt_eminem.rename(columns={\"CONTENT\": \"text\", \"CLASS\": \"label\"})\n",
        "\n",
        "# Dataset shakira\n",
        "yt_shakira = pd.read_csv('/content/Youtube05-Shakira.csv')\n",
        "yt_shakira = yt_shakira.drop('COMMENT_ID', axis = 1)\n",
        "yt_shakira = yt_shakira.drop('AUTHOR', axis = 1)\n",
        "yt_shakira = yt_shakira.drop('DATE', axis = 1)\n",
        "yt_shakira= yt_shakira.rename(columns={\"CONTENT\": \"text\", \"CLASS\": \"label\"})\n",
        "\n",
        "# Dataset amazon\n",
        "amazon = pd.read_csv('/content/amazon_cells_labelled.txt', sep='\\t', header=None)\n",
        "amazon.columns =['text', 'label']\n",
        "\n",
        "# Dataset imdb\n",
        "imdb = pd.read_csv('/content/imdb_labelled.txt', sep='\\t', header=None)\n",
        "imdb.columns =['text', 'label']\n",
        "\n",
        "# Dataset yelp\n",
        "yelp = pd.read_csv('/content/yelp_labelled.txt', sep='\\t', header=None)\n",
        "yelp.columns =['text', 'label']\n",
        "\n",
        "frames = [yt_psy, yt_eminem, yt_shakira, amazon, imdb, yelp]\n",
        "df = pd.concat(frames)\n",
        "df.describe()"
      ],
      "execution_count": null,
      "outputs": [
        {
          "output_type": "execute_result",
          "data": {
            "text/html": [
              "<div>\n",
              "<style scoped>\n",
              "    .dataframe tbody tr th:only-of-type {\n",
              "        vertical-align: middle;\n",
              "    }\n",
              "\n",
              "    .dataframe tbody tr th {\n",
              "        vertical-align: top;\n",
              "    }\n",
              "\n",
              "    .dataframe thead th {\n",
              "        text-align: right;\n",
              "    }\n",
              "</style>\n",
              "<table border=\"1\" class=\"dataframe\">\n",
              "  <thead>\n",
              "    <tr style=\"text-align: right;\">\n",
              "      <th></th>\n",
              "      <th>label</th>\n",
              "    </tr>\n",
              "  </thead>\n",
              "  <tbody>\n",
              "    <tr>\n",
              "      <th>count</th>\n",
              "      <td>3916.000000</td>\n",
              "    </tr>\n",
              "    <tr>\n",
              "      <th>mean</th>\n",
              "      <td>0.505618</td>\n",
              "    </tr>\n",
              "    <tr>\n",
              "      <th>std</th>\n",
              "      <td>0.500032</td>\n",
              "    </tr>\n",
              "    <tr>\n",
              "      <th>min</th>\n",
              "      <td>0.000000</td>\n",
              "    </tr>\n",
              "    <tr>\n",
              "      <th>25%</th>\n",
              "      <td>0.000000</td>\n",
              "    </tr>\n",
              "    <tr>\n",
              "      <th>50%</th>\n",
              "      <td>1.000000</td>\n",
              "    </tr>\n",
              "    <tr>\n",
              "      <th>75%</th>\n",
              "      <td>1.000000</td>\n",
              "    </tr>\n",
              "    <tr>\n",
              "      <th>max</th>\n",
              "      <td>1.000000</td>\n",
              "    </tr>\n",
              "  </tbody>\n",
              "</table>\n",
              "</div>"
            ],
            "text/plain": [
              "             label\n",
              "count  3916.000000\n",
              "mean      0.505618\n",
              "std       0.500032\n",
              "min       0.000000\n",
              "25%       0.000000\n",
              "50%       1.000000\n",
              "75%       1.000000\n",
              "max       1.000000"
            ]
          },
          "metadata": {
            "tags": []
          },
          "execution_count": 2
        }
      ]
    },
    {
      "cell_type": "markdown",
      "metadata": {
        "id": "cu4c_JhGV_9v"
      },
      "source": [
        "Pela descrição do conjunto de dados, logo se percebe que o dataset é balanceado, ou seja, cerca de metade dos textos é positiva e a outra metade negativa. Isso fica claro pela média ser em torno de meio (somando-se todos os labels e dividindo pela quantidade de entradas, obtém-se exatamente a metade entre 0 e 1).\n",
        "\n",
        "Outro detalhe é que o dataset completo não é tão grande, com apenas 3916 entradas. Entretanto, deve ser suficiente para fazermos os testes iniciais. Antes, porém, façamos alguns preprocessamentos.\n",
        "\n",
        "## Preprocessamento\n",
        "\n",
        "As seguintes etapas de preprocessamento serão aplicadas:\n",
        "\n",
        "1) converter em lowercase\n",
        "\n",
        "2) separar texto da pontuação\n",
        "\n",
        "3) remover espaços extras\n",
        "\n",
        "4) remover urls\n",
        "\n",
        "Outros passos podem ser tomados de acordo com o contexto, mas esses bastarão para uma análise sobre o presente conjunto de dados."
      ]
    },
    {
      "cell_type": "code",
      "metadata": {
        "colab": {
          "base_uri": "https://localhost:8080/",
          "height": 419
        },
        "id": "OjjOh8A9T0I1",
        "outputId": "48eec5d0-d0f8-486a-befe-33c793c6763a"
      },
      "source": [
        "df_preprocessed = df.copy()\n",
        "\n",
        "# Transformar em lowercase\n",
        "df_preprocessed['text'] = df['text'].apply(lambda x: x.lower())\n",
        "\n",
        "# Separar texto da pontuação\n",
        "text_pontuacao_pattern = \"(\\w)([\\.!?:;,\\)\\(]+)(?![\\)\\(\\[\\]DPcom])\"\n",
        "df_preprocessed['text'] = df_preprocessed['text'].apply(lambda x: re.sub(text_pontuacao_pattern,\"\\g<1> \\g<2>\", x))\n",
        "\n",
        "# Remover espaços extras\n",
        "df_preprocessed['text'] = df_preprocessed['text'].apply(lambda x: re.sub('[\\s\\t]+',' ', x))\n",
        "\n",
        "# Remover urls\n",
        "url_regex_pattern = \"(https?:\\/\\/(?:www\\.|(?!www))[a-zA-Z0-9][a-zA-Z0-9-]+[a-zA-Z0-9]\\.[^\\s]{2,}|www\\.[a-zA-Z0-9][a-zA-Z0-9-]+[a-zA-Z0-9]\\.[^\\s]{2,}|https?:\\/\\/(?:www\\.|(?!www))[a-zA-Z0-9]+\\.[^\\s]{2,}|www\\.[a-zA-Z0-9]+\\.[^\\s]{2,})\"\n",
        "df_preprocessed['text'] = df_preprocessed['text'].apply(lambda x: re.sub(url_regex_pattern,'', x))\n",
        "\n",
        "df_preprocessed"
      ],
      "execution_count": null,
      "outputs": [
        {
          "output_type": "execute_result",
          "data": {
            "text/html": [
              "<div>\n",
              "<style scoped>\n",
              "    .dataframe tbody tr th:only-of-type {\n",
              "        vertical-align: middle;\n",
              "    }\n",
              "\n",
              "    .dataframe tbody tr th {\n",
              "        vertical-align: top;\n",
              "    }\n",
              "\n",
              "    .dataframe thead th {\n",
              "        text-align: right;\n",
              "    }\n",
              "</style>\n",
              "<table border=\"1\" class=\"dataframe\">\n",
              "  <thead>\n",
              "    <tr style=\"text-align: right;\">\n",
              "      <th></th>\n",
              "      <th>text</th>\n",
              "      <th>label</th>\n",
              "    </tr>\n",
              "  </thead>\n",
              "  <tbody>\n",
              "    <tr>\n",
              "      <th>0</th>\n",
              "      <td>huh , anyway check out this you[tube] channel ...</td>\n",
              "      <td>1</td>\n",
              "    </tr>\n",
              "    <tr>\n",
              "      <th>1</th>\n",
              "      <td>hey guys check out my new channel and our firs...</td>\n",
              "      <td>1</td>\n",
              "    </tr>\n",
              "    <tr>\n",
              "      <th>2</th>\n",
              "      <td>just for test i have to say murdev.com</td>\n",
              "      <td>1</td>\n",
              "    </tr>\n",
              "    <tr>\n",
              "      <th>3</th>\n",
              "      <td>me shaking my sexy ass on my channel enjoy ^_^ ﻿</td>\n",
              "      <td>1</td>\n",
              "    </tr>\n",
              "    <tr>\n",
              "      <th>4</th>\n",
              "      <td>watch ?v=vtarggvgtwq check this out .﻿</td>\n",
              "      <td>1</td>\n",
              "    </tr>\n",
              "    <tr>\n",
              "      <th>...</th>\n",
              "      <td>...</td>\n",
              "      <td>...</td>\n",
              "    </tr>\n",
              "    <tr>\n",
              "      <th>995</th>\n",
              "      <td>i think food should have flavor and texture an...</td>\n",
              "      <td>0</td>\n",
              "    </tr>\n",
              "    <tr>\n",
              "      <th>996</th>\n",
              "      <td>appetite instantly gone .</td>\n",
              "      <td>0</td>\n",
              "    </tr>\n",
              "    <tr>\n",
              "      <th>997</th>\n",
              "      <td>overall i was not impressed and would not go b...</td>\n",
              "      <td>0</td>\n",
              "    </tr>\n",
              "    <tr>\n",
              "      <th>998</th>\n",
              "      <td>the whole experience was underwhelming , and i...</td>\n",
              "      <td>0</td>\n",
              "    </tr>\n",
              "    <tr>\n",
              "      <th>999</th>\n",
              "      <td>then , as if i hadn't wasted enough of my life...</td>\n",
              "      <td>0</td>\n",
              "    </tr>\n",
              "  </tbody>\n",
              "</table>\n",
              "<p>3916 rows × 2 columns</p>\n",
              "</div>"
            ],
            "text/plain": [
              "                                                  text  label\n",
              "0    huh , anyway check out this you[tube] channel ...      1\n",
              "1    hey guys check out my new channel and our firs...      1\n",
              "2               just for test i have to say murdev.com      1\n",
              "3     me shaking my sexy ass on my channel enjoy ^_^ ﻿      1\n",
              "4               watch ?v=vtarggvgtwq check this out .﻿      1\n",
              "..                                                 ...    ...\n",
              "995  i think food should have flavor and texture an...      0\n",
              "996                          appetite instantly gone .      0\n",
              "997  overall i was not impressed and would not go b...      0\n",
              "998  the whole experience was underwhelming , and i...      0\n",
              "999  then , as if i hadn't wasted enough of my life...      0\n",
              "\n",
              "[3916 rows x 2 columns]"
            ]
          },
          "metadata": {
            "tags": []
          },
          "execution_count": 3
        }
      ]
    },
    {
      "cell_type": "markdown",
      "metadata": {
        "id": "Plxb4Zv-clv3"
      },
      "source": [
        "## Preparando o vocabulário\n",
        "\n",
        "Um ponto importante é preparar um dicionário com o vocabulário disponível no dataset."
      ]
    },
    {
      "cell_type": "code",
      "metadata": {
        "colab": {
          "base_uri": "https://localhost:8080/"
        },
        "id": "MrTJHjbraGrV",
        "outputId": "48d58391-fc27-4a5b-ccdf-1828270313e3"
      },
      "source": [
        "vocab = set()\n",
        "for row in zip(df_preprocessed['text']):\n",
        "    for w in row[0].split(\" \"):\n",
        "        if w != '':\n",
        "            vocab.add(w)\n",
        "print(f\"Número de palavras no vocabulário: {format(len(vocab))}\")\n",
        "print(f\"Exemplo de 10 palavras: {list(vocab)[:10]}\")"
      ],
      "execution_count": null,
      "outputs": [
        {
          "output_type": "stream",
          "text": [
            "Número de palavras no vocabulário: 8203\n",
            "Exemplo de 10 palavras: ['world\\ufeff', '*****please', '.weebly', 'delicate', 'couple', 'focus', 'stretch', 'prophets', 'procedure', 'shops']\n"
          ],
          "name": "stdout"
        }
      ]
    },
    {
      "cell_type": "markdown",
      "metadata": {
        "id": "nyAUhk0ueK_a"
      },
      "source": [
        "## Separação do dataset em base de teste e base de avaliação\n",
        "\n",
        "Para poder fazer uma análise da eficiência real dos algoritmos, precisamos de separar o conjunto em uma base de teste e de avaliação. Faremos isso usando o método train_test_split do sklearn, deixando um total de 15% dos dados para avaliação (visto que temos poucos dados)."
      ]
    },
    {
      "cell_type": "code",
      "metadata": {
        "colab": {
          "base_uri": "https://localhost:8080/"
        },
        "id": "_RiF-JImeKZM",
        "outputId": "fbed5ce6-e6ea-41ba-9dcf-82ac5c998d53"
      },
      "source": [
        "random_state = 42\n",
        "split_size = 0.15\n",
        "train_data, test_data = train_test_split(df_preprocessed, test_size=split_size, random_state=random_state)\n",
        "X_train = train_data['text']\n",
        "y_train = train_data['label']\n",
        "X_test = test_data['text']\n",
        "y_test = test_data['label']\n",
        "print(f\"Tamanho do conjunto de treinamento: {len(X_train), len(y_train)}, Tamanho do conjunto de teste: {len(X_test), len(y_test)}\")"
      ],
      "execution_count": null,
      "outputs": [
        {
          "output_type": "stream",
          "text": [
            "Tamanho do conjunto de treinamento: (3328, 3328), Tamanho do conjunto de teste: (588, 588)\n"
          ],
          "name": "stdout"
        }
      ]
    },
    {
      "cell_type": "markdown",
      "metadata": {
        "id": "yhvHAdEJeBqT"
      },
      "source": [
        "# Método 1: Análise inocente (Naïve)\n",
        "\n",
        "Esse método é o mais simples e menos sofisticado. Consiste em criar uma tabela de \"palavras positivas e palavras negativas\". Ainda que não seja eficiente, serve como baseline - modelos que tiverem resultados piores que esse não podem ser considerados úteis.\n",
        "\n",
        "O treinamento é simples: basta preencher uma tabela com a polaridade de cada palavra."
      ]
    },
    {
      "cell_type": "code",
      "metadata": {
        "id": "yOh5FSJRdgN9"
      },
      "source": [
        "# Cria-se um dicionário para armazenar a polaridade das palavras\n",
        "weighted_vocab = defaultdict(lambda: defaultdict(int))\n",
        "for text, label in zip(X_train, y_train):\n",
        "    # Tokenização simples com split\n",
        "    for word in text.split(\" \"):\n",
        "        if word in vocab:\n",
        "            weighted_vocab[word][label]+=1\n",
        "\n",
        "# Criando um dicionário de pesos\n",
        "normalized_weighted_vocab = {word: {\"1\":weighted_vocab[word][1]/(weighted_vocab[word][1]+weighted_vocab[word][0]), \"0\":weighted_vocab[word][0]/(weighted_vocab[word][1]+weighted_vocab[word][0])} for word in weighted_vocab}"
      ],
      "execution_count": null,
      "outputs": []
    },
    {
      "cell_type": "code",
      "metadata": {
        "id": "ttCEdr4pj9D1"
      },
      "source": [
        "# Obtém-se a polaridade de cada expressão baseada na soma da polaridade das palavras:\n",
        "def naive_sa(sentence, normalized_weighted_vocab):\n",
        "    polarity_pos = 0\n",
        "    polarity_neg = 0\n",
        "    words = sentence.split(\" \")\n",
        "    for word in words:\n",
        "        if word in normalized_weighted_vocab:\n",
        "            polarity_pos += normalized_weighted_vocab[word].get(\"1\", 0)\n",
        "            polarity_neg += normalized_weighted_vocab[word].get(\"0\", 0)\n",
        "    return int(polarity_pos > polarity_neg)"
      ],
      "execution_count": null,
      "outputs": []
    },
    {
      "cell_type": "code",
      "metadata": {
        "colab": {
          "base_uri": "https://localhost:8080/",
          "height": 296
        },
        "id": "qCOFnaU4nMxm",
        "outputId": "7c5a4774-e52d-404d-cdb4-21a203e21f16"
      },
      "source": [
        "# Calculando resultados na base de testes\n",
        "y_test_hat_naive_sa = [naive_sa(text, normalized_weighted_vocab) for text in X_test]\n",
        "# Acurácia na base de testes\n",
        "naive_sa_results = y_test == y_test_hat_naive_sa\n",
        "naive_sa_accuracy = np.average(naive_sa_results)\n",
        "print(f\"Acurácia do Modelo Naïve: {naive_sa_accuracy}\")\n",
        "confusion_matrix_naive_sa = confusion_matrix(y_test, y_test_hat_naive_sa)\n",
        "\n",
        "from sklearn.metrics import ConfusionMatrixDisplay\n",
        "disp = ConfusionMatrixDisplay(confusion_matrix=confusion_matrix_naive_sa,\n",
        "                              display_labels=[\"1\",\"0\"])\n",
        "\n",
        "disp = disp.plot()\n",
        "plt.show()"
      ],
      "execution_count": null,
      "outputs": [
        {
          "output_type": "stream",
          "text": [
            "Acurácia do Modelo Naïve: 0.7482993197278912\n"
          ],
          "name": "stdout"
        },
        {
          "output_type": "display_data",
          "data": {
            "image/png": "[encoded data removed]",
            "text/plain": [
              "<Figure size 432x288 with 2 Axes>"
            ]
          },
          "metadata": {
            "tags": [],
            "needs_background": "light"
          }
        }
      ]
    },
    {
      "cell_type": "markdown",
      "metadata": {
        "id": "FEF2lS6frBoF"
      },
      "source": [
        "Os resultados são melhores do que random-guessing (chutar 1 ou 0 para cada entrada, o que resultaria em uma acurácia média de 50%). Mas podemos melhorar."
      ]
    },
    {
      "cell_type": "markdown",
      "metadata": {
        "id": "8WSof0h3rJ3r"
      },
      "source": [
        "# Método 2: Regressão Logística\n",
        "\n",
        "A regressão logística é um método um pouco mais sofisticado que usa da aproximação de uma função logística para calcular o valor verdadeiro. Para usá-la, é necessário fazer um preprocessamento:"
      ]
    },
    {
      "cell_type": "code",
      "metadata": {
        "id": "XPQ3yUn4ngHk"
      },
      "source": [
        "def extract_features_logreg(text, freqs):\n",
        "    # Tokenização simples\n",
        "    word_l = text.split(\" \")\n",
        "    \n",
        "    # Vetor de 2 elementos para: valor positivo, valor negativo\n",
        "    x = np.zeros((1, 3)) \n",
        "    \n",
        "    x[0,0] = 1\n",
        "\n",
        "    for word in word_l:\n",
        "        if word in freqs:\n",
        "            # Contador positivos\n",
        "            x[0,1] += freqs[word].get(1, 0)\n",
        "            # Contador negativos\n",
        "            x[0,2] += freqs[word].get(0, 0)\n",
        "        \n",
        "    assert(x.shape == (1, 3))\n",
        "    return x"
      ],
      "execution_count": null,
      "outputs": []
    },
    {
      "cell_type": "code",
      "metadata": {
        "colab": {
          "base_uri": "https://localhost:8080/"
        },
        "id": "yGqWZPIDnpIt",
        "outputId": "2062ca62-ab99-4135-9448-12333ac9ae63"
      },
      "source": [
        "X_train_logreg = np.array([extract_features_logreg(x, weighted_vocab) for x in X_train])\n",
        "X_train_logreg = X_train_logreg.reshape((len(X_train),3))\n",
        "X_train_logreg.shape"
      ],
      "execution_count": null,
      "outputs": [
        {
          "output_type": "stream",
          "text": [
            "(3328, 1, 3)\n"
          ],
          "name": "stdout"
        },
        {
          "output_type": "execute_result",
          "data": {
            "text/plain": [
              "(3328, 3)"
            ]
          },
          "metadata": {
            "tags": []
          },
          "execution_count": 15
        }
      ]
    },
    {
      "cell_type": "code",
      "metadata": {
        "colab": {
          "base_uri": "https://localhost:8080/"
        },
        "id": "Scfb7khitJ_Q",
        "outputId": "7acdffbe-8b15-47da-fd62-1eabf8e22535"
      },
      "source": [
        "# Inicializamos o modelo com as opções default, visto que o dataset não possui nenhuma peculiaridade. \n",
        "# Apenas adicionamos o random_state para termos resultados iguais a cada execução.\n",
        "logreg_model = LogisticRegression(random_state=random_state, fit_intercept=False, solver='liblinear')\n",
        "logreg_model = logreg_model.fit(X_train_logreg, y_train)\n",
        "logreg_model.score(X_train_logreg, y_train)"
      ],
      "execution_count": null,
      "outputs": [
        {
          "output_type": "execute_result",
          "data": {
            "text/plain": [
              "0.6739783653846154"
            ]
          },
          "metadata": {
            "tags": []
          },
          "execution_count": 16
        }
      ]
    },
    {
      "cell_type": "code",
      "metadata": {
        "colab": {
          "base_uri": "https://localhost:8080/",
          "height": 296
        },
        "id": "INnunJwdvHUs",
        "outputId": "9cc86909-9ee7-41ca-84d6-0a5eff1a7cb4"
      },
      "source": [
        "X_test_logreg = np.array([extract_features_logreg(x, weighted_vocab) for x in X_test])\n",
        "X_test_logreg = X_test_logreg.reshape((len(X_test),3))\n",
        "y_test_hat_logreg = logreg_model.predict(X_test_logreg)\n",
        "# Acurácia na base de testes\n",
        "logreg_results = y_test == y_test_hat_logreg\n",
        "logreg_accuracy = np.average(logreg_results)\n",
        "print(f\"Acurácia do Modelo Naïve: {logreg_accuracy}\")\n",
        "confusion_matrix_logreg = confusion_matrix(y_test, y_test_hat_logreg)\n",
        "disp_logreg = ConfusionMatrixDisplay(confusion_matrix=confusion_matrix_logreg,\n",
        "                              display_labels=[\"1\",\"0\"])\n",
        "\n",
        "disp_logreg = disp_logreg.plot()\n",
        "plt.show()"
      ],
      "execution_count": null,
      "outputs": [
        {
          "output_type": "stream",
          "text": [
            "Acurácia do Modelo Naïve: 0.673469387755102\n"
          ],
          "name": "stdout"
        },
        {
          "output_type": "display_data",
          "data": {
            "image/png": "[encoded data removed]",
            "text/plain": [
              "<Figure size 432x288 with 2 Axes>"
            ]
          },
          "metadata": {
            "tags": [],
            "needs_background": "light"
          }
        }
      ]
    },
    {
      "cell_type": "markdown",
      "metadata": {
        "id": "6iEtS23hx8bT"
      },
      "source": [
        "Vemos que a Regressão logística resultou em uma acurácia menor que o modelo Naïve. Isso significa que este modelo não é tão útil. \n",
        "\n",
        "Os motivos dos resultados piores talvez estejam relacionados à não normalização dos dados e também à não linearidade dos dados. Regressão logística não se dá bem com modelos não linearmente separáveis (que é o caso da maioria dos problemas de NLP)."
      ]
    },
    {
      "cell_type": "markdown",
      "metadata": {
        "id": "xBPp0Sfayn2o"
      },
      "source": [
        "# Método 3: Rede Neural Profunda\n",
        "\n",
        "Iniciaremos com uma rede neural simples (apenas camadas densas) usando a bibliteca Keras.\n",
        "\n",
        "Para isso, vamos usar algumas ferramentas do próprio keras para adptar o dataset para uso na biblioteca. Será usada a função de tokenizador.\n",
        "\n",
        "Espera-se obter um resultado ligeiramente melhor que os anteriores usando essa função."
      ]
    },
    {
      "cell_type": "code",
      "metadata": {
        "id": "J3VyCH6L1n6R"
      },
      "source": [
        "# Delimita tamanho máximo de vocabulário\n",
        "max_words = 10000\n",
        "\n",
        "# Delimita tamanho máximo de sentença\n",
        "max_len = 200\n",
        "\n",
        "# Tokenizador, mais sofisticado que o simples string.split()\n",
        "tokenizer = tf.keras.preprocessing.text.Tokenizer(num_words=max_words)\n",
        "tokenizer.fit_on_texts(df_preprocessed['text'])\n",
        "\n",
        "# Preparando sequencias de treinamento\n",
        "X_train_sequences = tokenizer.texts_to_sequences(X_train)\n",
        "X_train_preprocessed = tf.keras.preprocessing.sequence.pad_sequences(X_train_sequences, maxlen=max_len)\n",
        "\n",
        "# Preparando sequencias de teste\n",
        "X_test_sequences = tokenizer.texts_to_sequences(X_test)\n",
        "X_test_preprocessed = tf.keras.preprocessing.sequence.pad_sequences(X_test_sequences, maxlen=max_len)\n"
      ],
      "execution_count": null,
      "outputs": []
    },
    {
      "cell_type": "code",
      "metadata": {
        "colab": {
          "base_uri": "https://localhost:8080/"
        },
        "id": "N6cGHmdRy3-Y",
        "outputId": "1bd3f2e6-970f-461a-f28c-7c4a1dc12061"
      },
      "source": [
        "# Criação de uma Rede Neural simples para análise de sentimento.\n",
        "dense_model = tf.keras.Sequential()\n",
        "# A camada embedding cria uma \"tradução\" de índices para vetores de valores em ponto flutuante. \n",
        "# Esses valores ajudam a representar sequências e podem capturar sintaxe e semântica de contexto.\n",
        "# Por simplicidade, escolhi embeddings de dimensão 64\n",
        "dense_model.add(tf.keras.layers.Embedding(max_words, 64, input_length=max_len))\n",
        "# Para poder fazer a interligação da sequência com o modelo denso, é utilizada uma camada de \"achatamento\"\n",
        "dense_model.add(tf.keras.layers.Flatten())\n",
        "# Finalmente, um dos modos de se fazer a classificação é com uma camada Densa com a função sigmoide\n",
        "# Essa função retorna um valor entre 0 e 1 - usaremos a aproximação desse valor como resultado\n",
        "dense_model.add(tf.keras.layers.Dense(1, activation='sigmoid'))\n",
        "# Compilação do modelo, usando o otimizador Adam, loss como binary crossentropy (2 classes) e a acurácia como métrica.\n",
        "dense_model.compile(optimizer='adam', loss='binary_crossentropy', metrics=['accuracy'])\n",
        "\n",
        "# Essa configuração permitirá reduzir a Learning Rate à medida que o modelo aprende, evitando overfitting.\n",
        "def scheduler(epoch, lr):\n",
        "    if epoch < 10:\n",
        "        return lr\n",
        "    else:\n",
        "        return lr * tf.math.exp(-0.1)\n",
        "\n",
        "scheduler_callback = tf.keras.callbacks.LearningRateScheduler(scheduler)\n",
        "\n",
        "# Essa configuração fará com que o modelo pare de treinar caso o validation loss não reduza após 10 rodadas (mínimo local)\n",
        "early_stopping_callback = tf.keras.callbacks.EarlyStopping(monitor='val_loss', patience=10, restore_best_weights=True)\n",
        "\n",
        "# Treinamos o modelo - deve parar por volta da 19ª rodada, pois com poucos dados o modelo não \n",
        "# consegue generalizar o suficiente e para de melhorar por volta da 9ª rodada.\n",
        "dense_model_history = dense_model.fit(X_train_preprocessed, y_train, batch_size=64, epochs=30,\n",
        "                                      validation_data=(X_test_preprocessed, y_test),\n",
        "                                      callbacks=[scheduler_callback, early_stopping_callback])"
      ],
      "execution_count": null,
      "outputs": [
        {
          "output_type": "stream",
          "text": [
            "Epoch 1/30\n",
            "52/52 [==============================] - 1s 15ms/step - loss: 0.6956 - accuracy: 0.5091 - val_loss: 0.6740 - val_accuracy: 0.6241\n",
            "Epoch 2/30\n",
            "52/52 [==============================] - 1s 11ms/step - loss: 0.6455 - accuracy: 0.6670 - val_loss: 0.6050 - val_accuracy: 0.7143\n",
            "Epoch 3/30\n",
            "52/52 [==============================] - 1s 11ms/step - loss: 0.5205 - accuracy: 0.8433 - val_loss: 0.5072 - val_accuracy: 0.7959\n",
            "Epoch 4/30\n",
            "52/52 [==============================] - 1s 11ms/step - loss: 0.3609 - accuracy: 0.9166 - val_loss: 0.4491 - val_accuracy: 0.7976\n",
            "Epoch 5/30\n",
            "52/52 [==============================] - 1s 11ms/step - loss: 0.2463 - accuracy: 0.9554 - val_loss: 0.4133 - val_accuracy: 0.8163\n",
            "Epoch 6/30\n",
            "52/52 [==============================] - 1s 11ms/step - loss: 0.1705 - accuracy: 0.9704 - val_loss: 0.3949 - val_accuracy: 0.8248\n",
            "Epoch 7/30\n",
            "52/52 [==============================] - 1s 11ms/step - loss: 0.1298 - accuracy: 0.9783 - val_loss: 0.3862 - val_accuracy: 0.8214\n",
            "Epoch 8/30\n",
            "52/52 [==============================] - 1s 11ms/step - loss: 0.0962 - accuracy: 0.9861 - val_loss: 0.3875 - val_accuracy: 0.8282\n",
            "Epoch 9/30\n",
            "52/52 [==============================] - 1s 11ms/step - loss: 0.0775 - accuracy: 0.9877 - val_loss: 0.3898 - val_accuracy: 0.8197\n",
            "Epoch 10/30\n",
            "52/52 [==============================] - 1s 11ms/step - loss: 0.0629 - accuracy: 0.9925 - val_loss: 0.3930 - val_accuracy: 0.8214\n",
            "Epoch 11/30\n",
            "52/52 [==============================] - 1s 11ms/step - loss: 0.0549 - accuracy: 0.9927 - val_loss: 0.3970 - val_accuracy: 0.8146\n",
            "Epoch 12/30\n",
            "52/52 [==============================] - 1s 11ms/step - loss: 0.0413 - accuracy: 0.9967 - val_loss: 0.4021 - val_accuracy: 0.8129\n",
            "Epoch 13/30\n",
            "52/52 [==============================] - 1s 11ms/step - loss: 0.0392 - accuracy: 0.9954 - val_loss: 0.4064 - val_accuracy: 0.8163\n",
            "Epoch 14/30\n",
            "52/52 [==============================] - 1s 11ms/step - loss: 0.0319 - accuracy: 0.9976 - val_loss: 0.4097 - val_accuracy: 0.8146\n",
            "Epoch 15/30\n",
            "52/52 [==============================] - 1s 11ms/step - loss: 0.0282 - accuracy: 0.9974 - val_loss: 0.4142 - val_accuracy: 0.8180\n",
            "Epoch 16/30\n",
            "52/52 [==============================] - 1s 11ms/step - loss: 0.0265 - accuracy: 0.9982 - val_loss: 0.4189 - val_accuracy: 0.8129\n",
            "Epoch 17/30\n",
            "52/52 [==============================] - 1s 11ms/step - loss: 0.0245 - accuracy: 0.9985 - val_loss: 0.4222 - val_accuracy: 0.8112\n"
          ],
          "name": "stdout"
        }
      ]
    },
    {
      "cell_type": "markdown",
      "metadata": {
        "id": "suxtiwx_jTM7"
      },
      "source": [
        "O acerto na base de validação chega a aproximadamente 0.82%, ao passo que atinge perfeição na base de treino (entretanto, para isso, fica sobreajustado - overfit, aos dados de treino).\n",
        "\n",
        "Vejamos como foi o aprendizado do modelo:"
      ]
    },
    {
      "cell_type": "code",
      "metadata": {
        "colab": {
          "base_uri": "https://localhost:8080/",
          "height": 295
        },
        "id": "nZtgTfMhi9Y0",
        "outputId": "87fdc474-1db4-4756-e08f-5068dc4d2d13"
      },
      "source": [
        "plt.plot(dense_model_history.history['accuracy'])\n",
        "plt.plot(dense_model_history.history['val_accuracy'])\n",
        "plt.title('Modelo Denso - Resultados do Treino')\n",
        "plt.ylabel('accuracy')\n",
        "plt.xlabel('epoch')\n",
        "plt.legend(['train', 'val'], loc='upper left')\n",
        "plt.show()"
      ],
      "execution_count": null,
      "outputs": [
        {
          "output_type": "display_data",
          "data": {
            "image/png": "[encoded data removed]",
            "text/plain": [
              "<Figure size 432x288 with 1 Axes>"
            ]
          },
          "metadata": {
            "tags": [],
            "needs_background": "light"
          }
        }
      ]
    },
    {
      "cell_type": "markdown",
      "metadata": {
        "id": "WocdyMQgjpOa"
      },
      "source": [
        "A seguir, a matrix de confusão:"
      ]
    },
    {
      "cell_type": "code",
      "metadata": {
        "colab": {
          "base_uri": "https://localhost:8080/",
          "height": 296
        },
        "id": "N8uSqMpnjrrC",
        "outputId": "9cd1c125-bec5-455e-f6f7-7f8f09a69e80"
      },
      "source": [
        "y_test_hat_dense = np.round(dense_model.predict(X_test_preprocessed))[:,0]\n",
        "# Acurácia na base de testes\n",
        "dense_results = y_test == y_test_hat_dense\n",
        "dense_accuracy = np.average(dense_results)\n",
        "print(f\"Acurácia do Modelo Denso: {dense_accuracy}\")\n",
        "confusion_matrix_dense = confusion_matrix(y_test, y_test_hat_dense)\n",
        "disp_dense = ConfusionMatrixDisplay(confusion_matrix=confusion_matrix_dense,\n",
        "                              display_labels=[\"1\",\"0\"])\n",
        "disp_dense = disp_dense.plot()\n",
        "plt.show()"
      ],
      "execution_count": null,
      "outputs": [
        {
          "output_type": "stream",
          "text": [
            "Acurácia do Modelo Denso: 0.8214285714285714\n"
          ],
          "name": "stdout"
        },
        {
          "output_type": "display_data",
          "data": {
            "image/png": "[encoded data removed]",
            "text/plain": [
              "<Figure size 432x288 with 2 Axes>"
            ]
          },
          "metadata": {
            "tags": [],
            "needs_background": "light"
          }
        }
      ]
    },
    {
      "cell_type": "markdown",
      "metadata": {
        "id": "ML3D-biZkvSQ"
      },
      "source": [
        "Com os resultados obtidos, chegamos a valores maiores que o baseline estabelecido (Análise Naïve). Agora, tentaremos melhorar os resultados com um modelo sequencial (permitirá análise de consecução e não apenas do conjunto das palavras)."
      ]
    },
    {
      "cell_type": "markdown",
      "metadata": {
        "id": "87Lgve3HlAJ_"
      },
      "source": [
        "# Método 4: Rede Neural Recorrente com célula LSTM\n",
        "\n",
        "O seguinte modelo fará uso da estrutura de Rede Neural Recorrente com células LSTM, as quais permitem aprender a relação entre valores em um contexto (através da análise consecutiva).\n",
        "\n",
        "As células LSTM são conjuntos de funções e pesos que permitem guardar ou esquecer \"informações\" à medida que ocorre a aprendizagem. Isso permite uma análise rasa de contexto.\n",
        "\n",
        "Isso por quê se trata de uma rede neural que corre de forma recorrente e linear: os estados em um tempo t estão atrelados aos estados no tempo t-1.\n",
        "\n",
        "Apliquemos tal análise usando os mesmos dados preprocessados no modelo anterior:"
      ]
    },
    {
      "cell_type": "code",
      "metadata": {
        "colab": {
          "base_uri": "https://localhost:8080/"
        },
        "id": "NwL5e5moljQg",
        "outputId": "b3e13f10-49db-4114-aa77-95ba079a393c"
      },
      "source": [
        "# Execute as linhas abaixo para limpar o modelo e recomeçar o treinamento do zero - para ajuste de parâmetros\n",
        "#del lstm_model\n",
        "#tf.keras.backend.clear_session()\n",
        "#tf.compat.v1.reset_default_graph()\n",
        "\n",
        "# Dessa vez vamos usar uma saída multiclasse com ativação softmax. Para isso, precisamos transformar os rótulos\n",
        "# em valores categóricos, ou seja: 0 será [1, 0] e 1 será [0, 1] (2 classes).\n",
        "one_hot_train_y = tf.keras.utils.to_categorical(y_train)\n",
        "one_hot_test_y = tf.keras.utils.to_categorical(y_test)\n",
        "\n",
        "# Criação de uma Rede Neural Recorrente com Células LSTM para análise de sentimento.\n",
        "lstm_model = tf.keras.Sequential()\n",
        "lstm_model.add(tf.keras.layers.Embedding(max_words, 100, input_length=max_len))\n",
        "# Adicionamos dropout nas células LSTM para ajudar com o overfitting. \n",
        "# Dropout faz com que alguns pesos \"zerem\" durante o treinamento, reduzindo sobreajuste aos dados de treino.\n",
        "lstm_model.add(tf.keras.layers.LSTM(15, dropout=0.2, recurrent_dropout=0.2))\n",
        "# A última camada, ao invés de 1 nó com ativação sigmoid, usamos a ativação softmax, \n",
        "# que retorna uma \"probabilidade\" para cada classe.\n",
        "lstm_model.add(tf.keras.layers.Dense(2, activation='softmax'))\n",
        "lstm_model.compile(optimizer='adam',loss='categorical_crossentropy', metrics=['accuracy'])\n",
        "\n",
        "# O treinamento será mais curto (10 épocas) pois o modelo fica sobreajustado muito rápido devido à escassez de dados.\n",
        "lstm_model_history = lstm_model.fit(X_train_preprocessed, one_hot_train_y,\n",
        "                                    batch_size=64, epochs=10,\n",
        "                                    validation_data=(X_test_preprocessed, one_hot_test_y),\n",
        "                                    callbacks=[scheduler_callback, early_stopping_callback])"
      ],
      "execution_count": null,
      "outputs": [
        {
          "output_type": "stream",
          "text": [
            "Epoch 1/10\n",
            "52/52 [==============================] - 12s 186ms/step - loss: 0.6844 - accuracy: 0.5479 - val_loss: 0.6311 - val_accuracy: 0.6956\n",
            "Epoch 2/10\n",
            "52/52 [==============================] - 9s 180ms/step - loss: 0.5480 - accuracy: 0.7715 - val_loss: 0.4994 - val_accuracy: 0.7432\n",
            "Epoch 3/10\n",
            "52/52 [==============================] - 9s 179ms/step - loss: 0.3452 - accuracy: 0.8560 - val_loss: 0.4095 - val_accuracy: 0.8044\n",
            "Epoch 4/10\n",
            "52/52 [==============================] - 9s 179ms/step - loss: 0.2087 - accuracy: 0.9318 - val_loss: 0.3890 - val_accuracy: 0.8265\n",
            "Epoch 5/10\n",
            "52/52 [==============================] - 9s 181ms/step - loss: 0.1387 - accuracy: 0.9579 - val_loss: 0.3961 - val_accuracy: 0.8282\n",
            "Epoch 6/10\n",
            "52/52 [==============================] - 9s 181ms/step - loss: 0.0974 - accuracy: 0.9765 - val_loss: 0.4119 - val_accuracy: 0.8350\n",
            "Epoch 7/10\n",
            "52/52 [==============================] - 9s 182ms/step - loss: 0.0634 - accuracy: 0.9855 - val_loss: 0.4593 - val_accuracy: 0.8316\n",
            "Epoch 8/10\n",
            "52/52 [==============================] - 9s 180ms/step - loss: 0.0455 - accuracy: 0.9899 - val_loss: 0.4909 - val_accuracy: 0.8316\n",
            "Epoch 9/10\n",
            "52/52 [==============================] - 9s 179ms/step - loss: 0.0390 - accuracy: 0.9916 - val_loss: 0.5116 - val_accuracy: 0.8384\n",
            "Epoch 10/10\n",
            "52/52 [==============================] - 9s 180ms/step - loss: 0.0329 - accuracy: 0.9927 - val_loss: 0.5446 - val_accuracy: 0.8333\n"
          ],
          "name": "stdout"
        }
      ]
    },
    {
      "cell_type": "markdown",
      "metadata": {
        "id": "3Ubhp7YpQqPv"
      },
      "source": [
        "Vejamos o progresso do treinamento - note que rapidamente o modelo se sobreajusta e os resultados na base de avaliação começam a cair."
      ]
    },
    {
      "cell_type": "code",
      "metadata": {
        "colab": {
          "base_uri": "https://localhost:8080/",
          "height": 295
        },
        "id": "n6RDuvYc1aB4",
        "outputId": "afce1208-bbd3-4b93-8134-1ffb2d65a8f6"
      },
      "source": [
        "plt.plot(lstm_model_history.history['accuracy'])\n",
        "plt.plot(lstm_model_history.history['val_accuracy'])\n",
        "plt.title('Modelo LSTM - Resultados do Treino')\n",
        "plt.ylabel('accuracy')\n",
        "plt.xlabel('epoch')\n",
        "plt.legend(['train', 'val'], loc='upper left')\n",
        "plt.show()"
      ],
      "execution_count": null,
      "outputs": [
        {
          "output_type": "display_data",
          "data": {
            "image/png": "[encoded data removed]",
            "text/plain": [
              "<Figure size 432x288 with 1 Axes>"
            ]
          },
          "metadata": {
            "tags": [],
            "needs_background": "light"
          }
        }
      ]
    },
    {
      "cell_type": "markdown",
      "metadata": {
        "id": "lJzyhQSD1D7H"
      },
      "source": [
        "Com as LSTM atingimos resultados um pouco melhores (83%~), em troca de maior tempo de treinamento. \n",
        "\n",
        "Entretanto, conforme verificado durante a elaboração do modelo LSTM, com a escassez de dados, os resultados não são muito melhores que modelos mais simples, pois o modelo se sobreajusta muito rápido."
      ]
    },
    {
      "cell_type": "code",
      "metadata": {
        "colab": {
          "base_uri": "https://localhost:8080/",
          "height": 296
        },
        "id": "QL0b4Zri1DTp",
        "outputId": "8e80e661-d184-4831-a594-ed41f2b3d463"
      },
      "source": [
        "y_test_hat_lstm = [np.argmax(x) for x in lstm_model.predict(X_test_preprocessed)]\n",
        "# Acurácia na base de testes\n",
        "lstm_results = y_test == y_test_hat_lstm\n",
        "lstm_accuracy = np.average(lstm_results)\n",
        "print(f\"Acurácia do Modelo LSTM: {lstm_accuracy}\")\n",
        "confusion_matrix_lstm = confusion_matrix(y_test, y_test_hat_lstm)\n",
        "disp_lstm = ConfusionMatrixDisplay(confusion_matrix=confusion_matrix_lstm,\n",
        "                              display_labels=[\"1\",\"0\"])\n",
        "\n",
        "\n",
        "disp_lstm = disp_lstm.plot()\n",
        "plt.show()"
      ],
      "execution_count": null,
      "outputs": [
        {
          "output_type": "stream",
          "text": [
            "Acurácia do Modelo LSTM: 0.8333333333333334\n"
          ],
          "name": "stdout"
        },
        {
          "output_type": "display_data",
          "data": {
            "image/png": "[encoded data removed]",
            "text/plain": [
              "<Figure size 432x288 with 2 Axes>"
            ]
          },
          "metadata": {
            "tags": [],
            "needs_background": "light"
          }
        }
      ]
    },
    {
      "cell_type": "markdown",
      "metadata": {
        "id": "U9sWTcbmwyAI"
      },
      "source": [
        "# Método 5: Finetuning BERT - Modelo baseado em atenção\n",
        "\n",
        "Finalmente chegamos ao último modelo testado. Usaremos a Arquitetura BERT - Bidirectional Encoder Representations from Transformers, uma inovação apresentada pelo Google em 2018 que inclui um modelo baseado em Transformers, que são uma arquitetura que permite a análise sequencial de forma paralela.\n",
        "\n",
        "Um dos mecanismos utilizados no BERT é o mecanismo de \"Atenção\" - esse mecanismo permite que determinadas palavras \"prestem atenção\" a outras durante o treinamento, dependendo do modelo utilizado. Por ser um modelo bidirecional, o BERT permite que palavras prestem atenção a suas antecessoras e sucessoras.\n",
        "\n",
        "Com isso, é possível realizar uma profunda análise de contexto de forma paralela.\n",
        "\n",
        "O BERT foi treinado em dados massivos e seus pesos são disponibilizados publicamente. Um meio de acessar esses pesos é utilizando a biblioteca \"Transformers\".\n",
        "\n",
        "Iremos realizar o chamado \"finetuning\", que seria uma \"afinação\" do modelo aos nossos dados. Ou seja, adaptamos o modelo mais geral à nossa necessidade específica."
      ]
    },
    {
      "cell_type": "code",
      "metadata": {
        "colab": {
          "base_uri": "https://localhost:8080/"
        },
        "id": "qSX_8PWT5NfR",
        "outputId": "75a10df1-07bb-4a5a-8b5d-a8ea0647f21a"
      },
      "source": [
        "!pip install transformers"
      ],
      "execution_count": null,
      "outputs": [
        {
          "output_type": "stream",
          "text": [
            "Collecting transformers\n",
            "\u001b[?25l  Downloading https://files.pythonhosted.org/packages/50/0c/7d5950fcd80b029be0a8891727ba21e0cd27692c407c51261c3c921f6da3/transformers-4.1.1-py3-none-any.whl (1.5MB)\n",
            "\u001b[K     |████████████████████████████████| 1.5MB 8.4MB/s \n",
            "\u001b[?25hRequirement already satisfied: filelock in /usr/local/lib/python3.6/dist-packages (from transformers) (3.0.12)\n",
            "Requirement already satisfied: packaging in /usr/local/lib/python3.6/dist-packages (from transformers) (20.8)\n",
            "Collecting tokenizers==0.9.4\n",
            "\u001b[?25l  Downloading https://files.pythonhosted.org/packages/0f/1c/e789a8b12e28be5bc1ce2156cf87cb522b379be9cadc7ad8091a4cc107c4/tokenizers-0.9.4-cp36-cp36m-manylinux2010_x86_64.whl (2.9MB)\n",
            "\u001b[K     |████████████████████████████████| 2.9MB 20.0MB/s \n",
            "\u001b[?25hRequirement already satisfied: regex!=2019.12.17 in /usr/local/lib/python3.6/dist-packages (from transformers) (2019.12.20)\n",
            "Requirement already satisfied: tqdm>=4.27 in /usr/local/lib/python3.6/dist-packages (from transformers) (4.41.1)\n",
            "Requirement already satisfied: dataclasses; python_version < \"3.7\" in /usr/local/lib/python3.6/dist-packages (from transformers) (0.8)\n",
            "Requirement already satisfied: numpy in /usr/local/lib/python3.6/dist-packages (from transformers) (1.19.4)\n",
            "Requirement already satisfied: requests in /usr/local/lib/python3.6/dist-packages (from transformers) (2.23.0)\n",
            "Collecting sacremoses\n",
            "\u001b[?25l  Downloading https://files.pythonhosted.org/packages/7d/34/09d19aff26edcc8eb2a01bed8e98f13a1537005d31e95233fd48216eed10/sacremoses-0.0.43.tar.gz (883kB)\n",
            "\u001b[K     |████████████████████████████████| 890kB 37.2MB/s \n",
            "\u001b[?25hRequirement already satisfied: pyparsing>=2.0.2 in /usr/local/lib/python3.6/dist-packages (from packaging->transformers) (2.4.7)\n",
            "Requirement already satisfied: certifi>=2017.4.17 in /usr/local/lib/python3.6/dist-packages (from requests->transformers) (2020.12.5)\n",
            "Requirement already satisfied: idna<3,>=2.5 in /usr/local/lib/python3.6/dist-packages (from requests->transformers) (2.10)\n",
            "Requirement already satisfied: urllib3!=1.25.0,!=1.25.1,<1.26,>=1.21.1 in /usr/local/lib/python3.6/dist-packages (from requests->transformers) (1.24.3)\n",
            "Requirement already satisfied: chardet<4,>=3.0.2 in /usr/local/lib/python3.6/dist-packages (from requests->transformers) (3.0.4)\n",
            "Requirement already satisfied: six in /usr/local/lib/python3.6/dist-packages (from sacremoses->transformers) (1.15.0)\n",
            "Requirement already satisfied: click in /usr/local/lib/python3.6/dist-packages (from sacremoses->transformers) (7.1.2)\n",
            "Requirement already satisfied: joblib in /usr/local/lib/python3.6/dist-packages (from sacremoses->transformers) (1.0.0)\n",
            "Building wheels for collected packages: sacremoses\n",
            "  Building wheel for sacremoses (setup.py) ... \u001b[?25l\u001b[?25hdone\n",
            "  Created wheel for sacremoses: filename=sacremoses-0.0.43-cp36-none-any.whl size=893261 sha256=633219effa50d3528053cda18246373a1a8f35433cc79bb2f9934ae850158e3d\n",
            "  Stored in directory: /root/.cache/pip/wheels/29/3c/fd/7ce5c3f0666dab31a50123635e6fb5e19ceb42ce38d4e58f45\n",
            "Successfully built sacremoses\n",
            "Installing collected packages: tokenizers, sacremoses, transformers\n",
            "Successfully installed sacremoses-0.0.43 tokenizers-0.9.4 transformers-4.1.1\n"
          ],
          "name": "stdout"
        }
      ]
    },
    {
      "cell_type": "markdown",
      "metadata": {
        "id": "-4lpPG5ASTqK"
      },
      "source": [
        "Para iniciar, precisamos realizar o preprocessamento do texto. Para isso, precisamos usar o conjunto de tokens e embedding utilizados no modelo pré-treinado.\n",
        "\n",
        "Vamos utilizar o DistilBert, que é uma versão \"light\" do BERT, capaz de ser processada no Google Colab."
      ]
    },
    {
      "cell_type": "code",
      "metadata": {
        "id": "_qY5-ngTqkWV"
      },
      "source": [
        "from transformers import DistilBertTokenizerFast\n",
        "\n",
        "tokenizer = DistilBertTokenizerFast.from_pretrained('distilbert-base-uncased')\n",
        "\n",
        "X_train_bert = tokenizer(list(X_train.values),                      \n",
        "                        truncation=True,\n",
        "                        padding=True)\n",
        "              \n",
        "X_test_bert = tokenizer(list(X_test.values),                      \n",
        "                        truncation=True,\n",
        "                        padding=True)"
      ],
      "execution_count": null,
      "outputs": []
    },
    {
      "cell_type": "markdown",
      "metadata": {
        "id": "dBbT24dESlpD"
      },
      "source": [
        "A seguir, fazemos uma adaptação dos dados tokenizados ao formato do Tensorflow, para uso em um modelo Keras."
      ]
    },
    {
      "cell_type": "code",
      "metadata": {
        "id": "qHqG-TCD5Ut_"
      },
      "source": [
        "bert_train_dataset = tf.data.Dataset.from_tensor_slices((\n",
        "    dict(X_train_bert),\n",
        "    y_train\n",
        "))\n",
        "bert_test_dataset = tf.data.Dataset.from_tensor_slices((\n",
        "    dict(X_test_bert),\n",
        "    y_test\n",
        "))"
      ],
      "execution_count": null,
      "outputs": []
    },
    {
      "cell_type": "code",
      "metadata": {
        "colab": {
          "base_uri": "https://localhost:8080/",
          "height": 200,
          "referenced_widgets": [
            "98036377f691493492f766b7c2a75c92",
            "46527ea272fa4256beb2cf21766d02d8",
            "39aa750a4e1640f2a9bd01dbb403c5a6",
            "e0b73ea59aa1467d8805be84f7110d92",
            "e31aaee44120474f9cc62baae74e9c42",
            "b5fe67a4177a40c98b7eb6df7bc74b3b",
            "6cefbde86cd14aa5a9297ffd00d80668",
            "5d22a966b4b942fa8263cf150f36e5a9",
            "dbd08f48834b4c0c857bcf3d61a198d0",
            "7dcbc7be4ff246c9b7e334158e121960",
            "8c0e8cc3d50646df8a6737a6b23a65a3",
            "ad5650c17410445db3ec4d4c5844a3b1",
            "b80cc598b28d46619218e2208e8efa6d",
            "dde0e6b0bf3246fdb4b2f210f941743e",
            "0481ea93947147be90ef0f7c126ca949",
            "3422acc1228b45b4a174c97ff18b9c32"
          ]
        },
        "id": "RhDRyUTj8frq",
        "outputId": "fb7d5cc3-0013-436c-da09-70cb01465715"
      },
      "source": [
        "from transformers import TFDistilBertForSequenceClassification\n",
        "import tensorflow as tf\n",
        "\n",
        "# Estabelecemos uma learning rate bem baixa, para não mudar demais os pesos pre-treinados\n",
        "learning_rate = 5e-5\n",
        "# Apenas uma época é suficiente para excelentes resultados, até por quê esses modelos se sobreajustam muito facilmente.\n",
        "number_of_epochs = 1\n",
        "# Ah, 1 época em um kernel normal leva cerca de 2h e 30 min para treinar.\n",
        "\n",
        "# Inicialização do modelo - usamos o número de labels igual a 2.\n",
        "BERT_model = TFDistilBertForSequenceClassification.from_pretrained('distilbert-base-uncased', num_labels=2)\n",
        "\n",
        "# Mais uma vez usamos o Adam como optimizer\n",
        "optimizer = tf.keras.optimizers.Adam(learning_rate=learning_rate, epsilon=1e-08)\n",
        "\n",
        "# Para realizar o treinamento, usamos a SparseCategoricalCrossentropy, para 2 classes.\n",
        "loss = tf.keras.losses.SparseCategoricalCrossentropy(from_logits=True)\n",
        "metric = tf.keras.metrics.SparseCategoricalAccuracy('accuracy')\n",
        "# Finalmente compilamos o modelo, que será um modelo compatível com Keras.\n",
        "BERT_model.compile(optimizer=optimizer, loss=loss, metrics=[metric])"
      ],
      "execution_count": null,
      "outputs": [
        {
          "output_type": "display_data",
          "data": {
            "application/vnd.jupyter.widget-view+json": {
              "model_id": "98036377f691493492f766b7c2a75c92",
              "version_minor": 0,
              "version_major": 2
            },
            "text/plain": [
              "HBox(children=(FloatProgress(value=0.0, description='Downloading', max=442.0, style=ProgressStyle(description_…"
            ]
          },
          "metadata": {
            "tags": []
          }
        },
        {
          "output_type": "stream",
          "text": [
            "\n"
          ],
          "name": "stdout"
        },
        {
          "output_type": "display_data",
          "data": {
            "application/vnd.jupyter.widget-view+json": {
              "model_id": "dbd08f48834b4c0c857bcf3d61a198d0",
              "version_minor": 0,
              "version_major": 2
            },
            "text/plain": [
              "HBox(children=(FloatProgress(value=0.0, description='Downloading', max=363423424.0, style=ProgressStyle(descri…"
            ]
          },
          "metadata": {
            "tags": []
          }
        },
        {
          "output_type": "stream",
          "text": [
            "\n"
          ],
          "name": "stdout"
        },
        {
          "output_type": "stream",
          "text": [
            "Some layers from the model checkpoint at distilbert-base-uncased were not used when initializing TFDistilBertForSequenceClassification: ['vocab_layer_norm', 'activation_13', 'vocab_projector', 'vocab_transform']\n",
            "- This IS expected if you are initializing TFDistilBertForSequenceClassification from the checkpoint of a model trained on another task or with another architecture (e.g. initializing a BertForSequenceClassification model from a BertForPreTraining model).\n",
            "- This IS NOT expected if you are initializing TFDistilBertForSequenceClassification from the checkpoint of a model that you expect to be exactly identical (initializing a BertForSequenceClassification model from a BertForSequenceClassification model).\n",
            "Some layers of TFDistilBertForSequenceClassification were not initialized from the model checkpoint at distilbert-base-uncased and are newly initialized: ['classifier', 'dropout_19', 'pre_classifier']\n",
            "You should probably TRAIN this model on a down-stream task to be able to use it for predictions and inference.\n"
          ],
          "name": "stderr"
        }
      ]
    },
    {
      "cell_type": "code",
      "metadata": {
        "colab": {
          "base_uri": "https://localhost:8080/"
        },
        "id": "eHlU1nM_8l75",
        "outputId": "936b732f-023a-446e-99be-a55a1b93513c"
      },
      "source": [
        "# Executar essa célula demora cerca de 2h e 30 min.\n",
        "bert_history = BERT_model.fit(bert_train_dataset.shuffle(100).batch(16),\n",
        "                            batch_size=16,\n",
        "                            epochs=number_of_epochs, \n",
        "                            validation_data=bert_test_dataset.shuffle(100).batch(16))"
      ],
      "execution_count": null,
      "outputs": [
        {
          "output_type": "stream",
          "text": [
            "The parameters `output_attentions`, `output_hidden_states` and `use_cache` cannot be updated when calling a model.They have to be set to True/False in the config object (i.e.: `config=XConfig.from_pretrained('name', output_attentions=True)`).\n",
            "The parameter `return_dict` cannot be set in graph mode and will always be set to `True`.\n",
            "The parameters `output_attentions`, `output_hidden_states` and `use_cache` cannot be updated when calling a model.They have to be set to True/False in the config object (i.e.: `config=XConfig.from_pretrained('name', output_attentions=True)`).\n",
            "The parameter `return_dict` cannot be set in graph mode and will always be set to `True`.\n"
          ],
          "name": "stderr"
        },
        {
          "output_type": "stream",
          "text": [
            "208/208 [==============================] - ETA: 0s - loss: 0.4544 - accuracy: 0.7875 "
          ],
          "name": "stdout"
        },
        {
          "output_type": "stream",
          "text": [
            "The parameters `output_attentions`, `output_hidden_states` and `use_cache` cannot be updated when calling a model.They have to be set to True/False in the config object (i.e.: `config=XConfig.from_pretrained('name', output_attentions=True)`).\n",
            "The parameter `return_dict` cannot be set in graph mode and will always be set to `True`.\n"
          ],
          "name": "stderr"
        },
        {
          "output_type": "stream",
          "text": [
            "\b\b\b\b\b\b\b\b\b\b\b\b\b\b\b\b\b\b\b\b\b\b\b\b\b\b\b\b\b\b\b\b\b\b\b\b\b\b\b\b\b\b\b\b\b\b\b\b\b\b\b\b\b\b\b\b\b\b\b\b\b\b\b\b\b\b\b\b\b\b\b\b\b\b\b\b\b\b\b\b\b\b\b\b\r208/208 [==============================] - 10420s 50s/step - loss: 0.4538 - accuracy: 0.7879 - val_loss: 0.2068 - val_accuracy: 0.9116\n"
          ],
          "name": "stdout"
        }
      ]
    },
    {
      "cell_type": "code",
      "metadata": {
        "id": "PnLFIeduvlnm"
      },
      "source": [
        "# Salvando o modelo. 2h e 30 min são preciosos\n",
        "BERT_model.save_pretrained('/content/')"
      ],
      "execution_count": null,
      "outputs": []
    },
    {
      "cell_type": "code",
      "metadata": {
        "colab": {
          "base_uri": "https://localhost:8080/"
        },
        "id": "dgopOU-TTigR",
        "outputId": "1a43e868-f002-45d7-9e5b-af637425b937"
      },
      "source": [
        "# Carregando o modelo\n",
        "import os.path\n",
        "if not os.path.exists(\"/content/bert/\"):\n",
        "    os.makedirs(\"/content/bert/\")\n",
        "if not os.path.exists(\"/content/bert/tfmodel.h5\"):\n",
        "    !wget https://storage.googleapis.com/dl_models/tf_model.h5 -P /content/bert/\n",
        "    !wget https://storage.googleapis.com/dl_models/config.json -P /content/bert/\n",
        "BERT_model = TFDistilBertForSequenceClassification.from_pretrained(\"/content/bert/\")"
      ],
      "execution_count": null,
      "outputs": [
        {
          "output_type": "stream",
          "text": [
            "--2020-12-23 11:25:55--  https://storage.googleapis.com/dl_models/tf_model.h5\n",
            "Resolving storage.googleapis.com (storage.googleapis.com)... 108.177.98.128, 74.125.195.128, 74.125.28.128, ...\n",
            "Connecting to storage.googleapis.com (storage.googleapis.com)|108.177.98.128|:443... connected.\n",
            "HTTP request sent, awaiting response... 200 OK\n",
            "Length: 267952712 (256M) [application/octet-stream]\n",
            "Saving to: ‘/content/bert/tf_model.h5.1’\n",
            "\n",
            "tf_model.h5.1       100%[===================>] 255.54M   206MB/s    in 1.2s    \n",
            "\n",
            "2020-12-23 11:25:56 (206 MB/s) - ‘/content/bert/tf_model.h5.1’ saved [267952712/267952712]\n",
            "\n",
            "--2020-12-23 11:25:56--  https://storage.googleapis.com/dl_models/config.json\n",
            "Resolving storage.googleapis.com (storage.googleapis.com)... 74.125.197.128, 74.125.195.128, 74.125.142.128, ...\n",
            "Connecting to storage.googleapis.com (storage.googleapis.com)|74.125.197.128|:443... connected.\n",
            "HTTP request sent, awaiting response... 200 OK\n",
            "Length: 488 [application/json]\n",
            "Saving to: ‘/content/bert/config.json.1’\n",
            "\n",
            "config.json.1       100%[===================>]     488  --.-KB/s    in 0s      \n",
            "\n",
            "2020-12-23 11:25:56 (74.1 MB/s) - ‘/content/bert/config.json.1’ saved [488/488]\n",
            "\n"
          ],
          "name": "stdout"
        },
        {
          "output_type": "stream",
          "text": [
            "Some layers from the model checkpoint at /content/bert/ were not used when initializing TFDistilBertForSequenceClassification: ['dropout_77']\n",
            "- This IS expected if you are initializing TFDistilBertForSequenceClassification from the checkpoint of a model trained on another task or with another architecture (e.g. initializing a BertForSequenceClassification model from a BertForPreTraining model).\n",
            "- This IS NOT expected if you are initializing TFDistilBertForSequenceClassification from the checkpoint of a model that you expect to be exactly identical (initializing a BertForSequenceClassification model from a BertForSequenceClassification model).\n",
            "Some layers of TFDistilBertForSequenceClassification were not initialized from the model checkpoint at /content/bert/ and are newly initialized: ['dropout_39']\n",
            "You should probably TRAIN this model on a down-stream task to be able to use it for predictions and inference.\n"
          ],
          "name": "stderr"
        }
      ]
    },
    {
      "cell_type": "markdown",
      "metadata": {
        "id": "rBKoW6jCWhKt"
      },
      "source": [
        "Agora que o modelo foi carregado, podemos vê-lo em funcionamento:"
      ]
    },
    {
      "cell_type": "code",
      "metadata": {
        "colab": {
          "base_uri": "https://localhost:8080/"
        },
        "id": "Pf1jwJ8VwN3T",
        "outputId": "37d647bb-50e4-4995-9a61-3357b7e4c1f6"
      },
      "source": [
        "# Escreva o que quiser abaixo (em inglês) \n",
        "test_sentence = \"I loved this movie casting. I also liked the soundtrack, but the story is awful, I do not recomend\"\n",
        "# O tokenizer será usado para transformar a sentença no formato que o BERT entende.\n",
        "predict_input = tokenizer.encode(test_sentence,\n",
        "                                 truncation=True,\n",
        "                                 padding=True,\n",
        "                                 return_tensors=\"tf\")\n",
        "# Realizamos a predição e escolhemos o primeiro resultado\n",
        "results = BERT_model.predict(predict_input)[0]\n",
        "# Aplicamos o softmax na saída - retornará a probabilidade dos resultados para a primeira posição\n",
        "tf_prediction = tf.nn.softmax(results, axis=1).numpy()[0]\n",
        "# Extraímos o resultado mais provável com argmax (retorna a posição 0 ou 1)\n",
        "print(\"O sentimento é: {}\".format(\"Positivo\" if np.argmax(tf_prediction) else \"Negativo\"))\n",
        "# P.S.: A primeira execução demora mais"
      ],
      "execution_count": null,
      "outputs": [
        {
          "output_type": "stream",
          "text": [
            "O sentimento é: Negativo\n"
          ],
          "name": "stdout"
        }
      ]
    },
    {
      "cell_type": "markdown",
      "metadata": {
        "id": "4IVv4HrqXgXI"
      },
      "source": [
        "Perceba que, no geral, o BERT consegue dar respostas corretas inclusive para sentenças complexas. Passemos agora para a análise dos resultados."
      ]
    },
    {
      "cell_type": "code",
      "metadata": {
        "colab": {
          "base_uri": "https://localhost:8080/",
          "height": 296
        },
        "id": "FSjD1Kf6Xt3h",
        "outputId": "945269df-8659-49f2-a770-43a35c4c7c3d"
      },
      "source": [
        "tokenized_test = [tokenizer.encode(sent,\n",
        "                                 truncation=True,\n",
        "                                 padding=True,\n",
        "                                 return_tensors=\"tf\") for sent in X_test]\n",
        "bert_logits = [BERT_model.predict(tokenized) for tokenized in tokenized_test]\n",
        "y_test_hat_bert = [np.argmax(tf.nn.softmax(x[0], axis=1)[0]) for x in bert_logits]\n",
        "# Acurácia na base de testes\n",
        "bert_results = y_test == y_test_hat_bert\n",
        "bert_accuracy = np.average(bert_results)\n",
        "print(f\"Acurácia do Modelo BERT: {bert_accuracy}\")\n",
        "confusion_matrix_bert = confusion_matrix(y_test, y_test_hat_bert)\n",
        "disp_bert = ConfusionMatrixDisplay(confusion_matrix=confusion_matrix_bert,\n",
        "                              display_labels=[\"1\",\"0\"])\n",
        "\n",
        "\n",
        "disp_bert = disp_bert.plot()\n",
        "plt.show()"
      ],
      "execution_count": null,
      "outputs": [
        {
          "output_type": "stream",
          "text": [
            "Acurácia do Modelo BERT: 0.9115646258503401\n"
          ],
          "name": "stdout"
        },
        {
          "output_type": "display_data",
          "data": {
            "image/png": "[encoded data removed]",
            "text/plain": [
              "<Figure size 432x288 with 2 Axes>"
            ]
          },
          "metadata": {
            "tags": [],
            "needs_background": "light"
          }
        }
      ]
    },
    {
      "cell_type": "markdown",
      "metadata": {
        "id": "dWm4kpqxZ07e"
      },
      "source": [
        "91% de acurácia não é nada mau para apenas 1 época de treinamento e poucos dados."
      ]
    },
    {
      "cell_type": "markdown",
      "metadata": {
        "id": "zpzaduM-Z_UN"
      },
      "source": [
        "# Comparativo de Modelos\n",
        "\n",
        "Comparemos agora os modelos e os resultados:"
      ]
    },
    {
      "cell_type": "code",
      "metadata": {
        "colab": {
          "base_uri": "https://localhost:8080/",
          "height": 345
        },
        "id": "af0SsQqkaDLj",
        "outputId": "7e6a3437-71bf-42f2-a5ec-be79b1eaba2e"
      },
      "source": [
        "all_accuracy = {\"Naive\": naive_sa_accuracy, \"Regressao Logistica\": logreg_accuracy, \n",
        "                \"Rede Neural Densa\": dense_accuracy, \"Rede Neural recorrente\": lstm_accuracy,\n",
        "                \"BERT\": bert_accuracy}\n",
        "all_accuracy = dict(sorted(all_accuracy.items(), key=lambda item: item[1]))\n",
        "keys = list(all_accuracy.keys())\n",
        "vals = [all_accuracy[k] for k in keys]\n",
        "sns.barplot(x=keys, y=vals)\n",
        "plt.xticks(rotation=45)\n",
        "plt.show()"
      ],
      "execution_count": null,
      "outputs": [
        {
          "output_type": "display_data",
          "data": {
            "image/png": "[encoded data removed]",
            "text/plain": [
              "<Figure size 432x288 with 1 Axes>"
            ]
          },
          "metadata": {
            "tags": [],
            "needs_background": "light"
          }
        }
      ]
    },
    {
      "cell_type": "markdown",
      "metadata": {
        "id": "p4lp3kjdienF"
      },
      "source": [
        "Finalmente, um comparativo das matrizes de confusão:"
      ]
    },
    {
      "cell_type": "code",
      "metadata": {
        "colab": {
          "base_uri": "https://localhost:8080/",
          "height": 314
        },
        "id": "nIb7aclwc671",
        "outputId": "1423035e-aaf0-4b94-a431-78cf1a1d82ef"
      },
      "source": [
        "f, axes = plt.subplots(1, 5, figsize=(20, 5), sharey='row')\n",
        "\n",
        "confusion_matrices = {\"Regressao Logistica\": disp_logreg, \"Naive\": disp, \n",
        "                      \"Rede Neural Densa\": disp_dense, \"Rede Neural recorrente\": disp_lstm,\n",
        "                      \"BERT\": disp_bert}\n",
        "curr_key = 0\n",
        "for key, display in confusion_matrices.items():\n",
        "    display.plot(ax=axes[curr_key], xticks_rotation=45)\n",
        "    display.ax_.set_title(key)\n",
        "    display.im_.colorbar.remove()\n",
        "    display.ax_.set_xlabel('')\n",
        "    curr_key+=1\n",
        "\n",
        "f.text(0.4, 0.1, 'Predicted label', ha='right')\n",
        "plt.subplots_adjust(wspace=0.50, hspace=0.1)\n",
        "\n",
        "\n",
        "f.colorbar(disp.im_, ax=axes)\n",
        "plt.show()\n"
      ],
      "execution_count": null,
      "outputs": [
        {
          "output_type": "display_data",
          "data": {
            "image/png": "[encoded data removed]",
            "text/plain": [
              "<Figure size 1440x360 with 6 Axes>"
            ]
          },
          "metadata": {
            "tags": [],
            "needs_background": "light"
          }
        }
      ]
    }
  ]
}